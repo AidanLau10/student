{
 "cells": [
  {
   "cell_type": "markdown",
   "metadata": {},
   "source": [
    "---\n",
    "title: Week 0 Plan\n",
    "comments: true\n",
    "hide: true\n",
    "layout: post\n",
    "description: A daily plan for this week.\n",
    "categories: [C7.0]\n",
    "courses: { labnb: {week: 0} }\n",
    "type: plans\n",
    "---"
   ]
  },
  {
   "cell_type": "markdown",
   "metadata": {},
   "source": [
    "- Wednesday - First day of school. Get familiar with course and exam.\n",
    "- Thursday - Install tools on computer, setup github and slack account.\n",
    "- Friday - Find pair to collaborate with. "
   ]
  }
 ],
 "metadata": {
  "language_info": {
   "name": "python"
  },
  "orig_nbformat": 4
 },
 "nbformat": 4,
 "nbformat_minor": 2
}
