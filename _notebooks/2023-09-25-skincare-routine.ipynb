{
 "cells": [
  {
   "cell_type": "markdown",
   "metadata": {},
   "source": [
    "---\n",
    "title: Skincare Routine\n",
    "comments: true\n",
    "hide: true\n",
    "layout: default\n",
    "description: Homepage for skincare routine\n",
    "permalink: /skincare/routine\n",
    "---"
   ]
  },
  {
   "cell_type": "raw",
   "metadata": {},
   "source": [
    "{% include nav_routine.html %}"
   ]
  },
  {
   "cell_type": "raw",
   "metadata": {},
   "source": [
    "<link rel=\"stylesheet\" href=\"skincare-light-dark.css\">\n",
    "<p id=\"day-routine\">Day Routine</p>\n",
    "<img src=\"/student/images/skincare-day.jpg\" class=\"responsive\" id=\"skincare-day\">"
   ]
  }
 ],
 "metadata": {
  "language_info": {
   "name": "python"
  },
  "orig_nbformat": 4
 },
 "nbformat": 4,
 "nbformat_minor": 2
}
