{
 "cells": [
  {
   "cell_type": "markdown",
   "metadata": {},
   "source": [
    "---\n",
    "title: Week 1 Plan\n",
    "comments: true\n",
    "hide: true\n",
    "layout: post\n",
    "description: A daily plan for this week.\n",
    "categories: [C7.0]\n",
    "courses: { labnb: {week: 1} }\n",
    "type: plans\n",
    "---"
   ]
  },
  {
   "cell_type": "markdown",
   "metadata": {},
   "source": [
    "- Monday - Create freeform picture and learn about partner.\n",
    "- Tuesday - Edit home pgage in index.md by adding interests and freeform picture.\n",
    "- Wednesday - \n",
    "- Thursday\n",
    "- Friday - "
   ]
  }
 ],
 "metadata": {
  "language_info": {
   "name": "python"
  },
  "orig_nbformat": 4
 },
 "nbformat": 4,
 "nbformat_minor": 2
}
