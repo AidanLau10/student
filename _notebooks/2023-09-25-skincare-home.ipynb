{
 "cells": [
  {
   "cell_type": "markdown",
   "metadata": {},
   "source": [
    "---\n",
    "title: Skincare Home\n",
    "comments: false\n",
    "hide: true\n",
    "layout: default\n",
    "description: Homepage for skincare\n",
    "courses: { labnb: {week: 6} }\n",
    "type: hacks\n",
    "permalink: /skincare/home\n",
    "---"
   ]
  },
  {
   "cell_type": "raw",
   "metadata": {},
   "source": [
    "{% include nav_skincare.html %}"
   ]
  },
  {
   "cell_type": "raw",
   "metadata": {},
   "source": [
    "  <head>\n",
    "    <title>Skincare Home</title>\n",
    "    <link rel=\"stylesheet\" href=\"/student/assets/css/skincare-home.css\">\n",
    "  </head>\n",
    " \n",
    "  <body>\n",
    "    <div class=\"top-header\">\n",
    "    <h1>Skincare Homepage</h1>\n",
    "    <p>Navigate to the different tabs to see skincare ingredients to look out for, skincare products, and a skincare routine</p>\n",
    "    </div>\n",
    "\n",
    "  \n",
    "<div class=\"gallery\">\n",
    "  <a href=\"{{site.baseurl}}/skincare/ingredients\">\n",
    "    <img src=\"/student/images/skincare-ingredients.jpeg\" alt=\"Skincare Ingredients\" width=\"600\" height=\"400\">\n",
    "  </a>\n",
    "  <div class=\"desc\">Learn about which skincare ingredients to look out for and which ingredients to avoid.</div>\n",
    "</div>\n",
    "\n",
    "<div class=\"gallery\">\n",
    "  <a href=\"{{site.baseurl}}/skincare/products\">\n",
    "    <img src=\"/student/images/skincare-products.jpeg\" alt=\"Skincare Products\" width=\"600\" height=\"400\">\n",
    "  </a>\n",
    "  <div class=\"desc\">Here are some recommendations of the best skincare products.</div>\n",
    "</div>\n",
    "\n",
    "<div class=\"gallery\">\n",
    "  <a href=\"{{site.baseurl}}/skincare/routine\">\n",
    "    <img src=\"/student/images/skincare-routine.jpeg\" alt=\"Skincare Routine\" width=\"600\" height=\"400\">\n",
    "  </a>\n",
    "  <div class=\"desc\">Learn about the ideal skincare routine for day and night.</div>\n",
    "</div>\n",
    "\n",
    "\n",
    "\n",
    "\n",
    "\n",
    "\n",
    "\t<script src=\"/student/assets/js/skincare-home.js\"></script>\n",
    "  </body>\n"
   ]
  }
 ],
 "metadata": {
  "language_info": {
   "name": "python"
  },
  "orig_nbformat": 4
 },
 "nbformat": 4,
 "nbformat_minor": 2
}
