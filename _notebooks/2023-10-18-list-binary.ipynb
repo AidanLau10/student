{
 "cells": [
  {
   "cell_type": "markdown",
   "metadata": {},
   "source": [
    "---\n",
    "comments: true\n",
    "layout: post\n",
    "title: P1 List and Binary Search\n",
    "description: Student Teaching List and Binary Search\n",
    "courses: { labnb: {week: 9} }\n",
    "type: hacks\n",
    "---"
   ]
  },
  {
   "cell_type": "code",
   "execution_count": null,
   "metadata": {},
   "outputs": [],
   "source": []
  },
  {
   "cell_type": "code",
   "execution_count": null,
   "metadata": {},
   "outputs": [],
   "source": []
  },
  {
   "cell_type": "markdown",
   "metadata": {},
   "source": [
    "3) You have a list `myList` containing the following elements: [10, 20, 30, 40, 50].\n",
    "FOR i FROM 0 TO LENGTH(myList) {\n",
    "    x <- myList[i]\n",
    "    myList[i] <- x * 2\n",
    "}\n",
    "What will be the final content of `myList` after executing this algorithm?\n",
    "A) [20, 40, 60, 80, 100]\n",
    "B) [10, 20, 30, 40, 50]\n",
    "C) [10, 40, 30, 20, 50]\n",
    "D) [50, 40, 30, 20, 10]\n",
    "submit on utterance\n",
    "\n",
    "The correct answer is A because the for loop goes through all the items in the list and multiples each item by 2."
   ]
  },
  {
   "cell_type": "markdown",
   "metadata": {},
   "source": [
    "## "
   ]
  }
 ],
 "metadata": {
  "kernelspec": {
   "display_name": "Python 3 (ipykernel)",
   "language": "python",
   "name": "python3"
  },
  "language_info": {
   "codemirror_mode": {
    "name": "ipython",
    "version": 3
   },
   "file_extension": ".py",
   "mimetype": "text/x-python",
   "name": "python",
   "nbconvert_exporter": "python",
   "pygments_lexer": "ipython3",
   "version": "3.11.6"
  }
 },
 "nbformat": 4,
 "nbformat_minor": 4
}
