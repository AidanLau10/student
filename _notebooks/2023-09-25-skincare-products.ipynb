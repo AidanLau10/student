{
 "cells": [
  {
   "cell_type": "markdown",
   "metadata": {},
   "source": [
    "---\n",
    "title: Skincare Products\n",
    "comments: true\n",
    "hide: true\n",
    "layout: default\n",
    "description: Popular Korean skincare\n",
    "type: hacks\n",
    "permalink: /skincare/products\n",
    "---"
   ]
  },
  {
   "cell_type": "raw",
   "metadata": {},
   "source": [
    "{% include nav_skincare.html %}"
   ]
  },
  {
   "cell_type": "raw",
   "metadata": {},
   "source": [
    "<link rel=\"stylesheet\" href=\"/student/assets/css/skincare-products.css\">\n",
    "\n",
    "<body>\n",
    "\n",
    "<div class=\"slideshow-container\">\n",
    "\n",
    "<div class=\"mySlides fade\">\n",
    "  <div class=\"numbertext\">1 / 3</div>\n",
    "  <img src=\"/student/images/snail-mucin.jpeg\" style=\"width:100%\">\n",
    "  <div class=\"text\">Snail Mucin Toner</div>\n",
    "</div>\n",
    "\n",
    "<div class=\"mySlides fade\">\n",
    "  <div class=\"numbertext\">2 / 3</div>\n",
    "  <img src=\"/student/images/anua-heartleaf.jpeg\" style=\"width:100%\">\n",
    "  <div class=\"text\">Anua Heartleaf Toner</div>\n",
    "</div>\n",
    "\n",
    "<div class=\"mySlides fade\">\n",
    "  <div class=\"numbertext\">3 / 3</div>\n",
    "  <img src=\"/student/images/glow-serum.jpg\" style=\"width:100%\">\n",
    "  <div class=\"text\">Beauty of Joseon Glow Serum</div>\n",
    "</div>\n",
    "\n",
    "\n",
    "<a class=\"prev\" onclick=\"plusSlides(-1)\">❮</a>\n",
    "<a class=\"next\" onclick=\"plusSlides(1)\">❯</a>\n",
    "\n",
    "</div>\n",
    "<br>\n",
    "\n",
    "<script src=\"/student/assets/js/skincare-products.js\"></script>\n",
    "\n",
    "</body>\n",
    " \n"
   ]
  }
 ],
 "metadata": {
  "language_info": {
   "name": "python"
  },
  "orig_nbformat": 4
 },
 "nbformat": 4,
 "nbformat_minor": 2
}
