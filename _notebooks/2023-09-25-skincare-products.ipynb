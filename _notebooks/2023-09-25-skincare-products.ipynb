{
 "cells": [
  {
   "cell_type": "markdown",
   "metadata": {},
   "source": [
    "---\n",
    "title: Skincare Products\n",
    "comments: true\n",
    "hide: true\n",
    "layout: default\n",
    "description: Popular Korean skincare\n",
    "type: hacks\n",
    "permalink: /skincare/products\n",
    "---"
   ]
  },
  {
   "cell_type": "raw",
   "metadata": {},
   "source": [
    "{% include nav_skincare.html %}"
   ]
  }
 ],
 "metadata": {
  "language_info": {
   "name": "python"
  },
  "orig_nbformat": 4
 },
 "nbformat": 4,
 "nbformat_minor": 2
}
