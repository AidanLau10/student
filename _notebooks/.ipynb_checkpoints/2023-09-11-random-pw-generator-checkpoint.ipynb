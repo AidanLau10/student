{
 "cells": [
  {
   "cell_type": "markdown",
   "metadata": {},
   "source": [
    "---\n",
    "title: Random Password Generator\n",
    "comments: true\n",
    "hide: true\n",
    "layout: post\n",
    "description: Generate a random password\n",
    "categories: [C7.0]\n",
    "courses: { labnb: {week: 3} }\n",
    "type: hacks\n",
    "---"
   ]
  },
  {
   "cell_type": "markdown",
   "metadata": {},
   "source": [
    "%run /student/main.py"
   ]
  },
  {
   "cell_type": "code",
   "execution_count": 2,
   "metadata": {},
   "outputs": [
    {
     "name": "stdout",
     "output_type": "stream",
     "text": [
      "Your password: \n",
      "w?m2%r^(d52$8?w#\n"
     ]
    }
   ],
   "source": [
    "import random\n",
    "\n",
    "print(\"Your password: \")\n",
    "\n",
    "chars = \"abcdefghijklmnopqrstuvwxyz1234567890!@#$%^&*()?\"\n",
    "\n",
    "password = ''\n",
    "for x in range(16):\n",
    "    password += random.choice(chars)\n",
    "\n",
    "print(password)"
   ]
  }
 ],
 "metadata": {
  "kernelspec": {
   "display_name": "Python 3 (ipykernel)",
   "language": "python",
   "name": "python3"
  },
  "language_info": {
   "codemirror_mode": {
    "name": "ipython",
    "version": 3
   },
   "file_extension": ".py",
   "mimetype": "text/x-python",
   "name": "python",
   "nbconvert_exporter": "python",
   "pygments_lexer": "ipython3",
   "version": "3.10.12"
  }
 },
 "nbformat": 4,
 "nbformat_minor": 2
}
