{
 "cells": [
  {
   "cell_type": "markdown",
   "metadata": {},
   "source": [
    "---\n",
    "title: Week 0 Plan\n",
    "comments: true\n",
    "hide: true\n",
    "layout: post\n",
    "description: A daily plan for this week.\n",
    "categories: [C7.0]\n",
    "courses: { labnb: {week: 0} }\n",
    "type: plans\n",
    "---"
   ]
  }
 ],
 "metadata": {
  "language_info": {
   "name": "python"
  },
  "orig_nbformat": 4
 },
 "nbformat": 4,
 "nbformat_minor": 2
}
