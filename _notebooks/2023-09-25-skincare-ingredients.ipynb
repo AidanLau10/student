{
 "cells": [
  {
   "cell_type": "markdown",
   "metadata": {},
   "source": [
    "---\n",
    "title: Skincare Ingredients\n",
    "comments: true\n",
    "hide: true\n",
    "layout: default\n",
    "description: Information about skincare ingredients\n",
    "type: ccc\n",
    "permalink: /skincare/ingredients\n",
    "---"
   ]
  },
  {
   "cell_type": "raw",
   "metadata": {},
   "source": [
    "{% include nav_ingredients.html %}"
   ]
  },
  {
   "cell_type": "raw",
   "metadata": {},
   "source": [
    "<link rel=\"stylesheet\" href=\"/student/assets/css/skincare-ingredients.css\">\n",
    "\n",
    "<div>\n",
    "    <h1>Here are what specific ingredients do and what skin types they support.</h1>\n",
    "    <img src=\"/student/images/skincare-specific-ingredients.jpg\">\n",
    "</div>\n",
    "\n",
    "<div>\n",
    "    <h1>Mix and don't mix these ingredients together.</h1>\n",
    "    <img src=\"/student/images/skincare-ingredient-mixer.jpg\">\n",
    "</div>\n",
    "\n",
    "<div>\n",
    "    <h1>Combo these ingredients for even better results!</h1>\n",
    "    <img src=\"/student/images/skincare-ingredient-combos.jpeg\">\n",
    "</div>"
   ]
  }
 ],
 "metadata": {
  "kernelspec": {
   "display_name": "Python 3",
   "language": "python",
   "name": "python3"
  },
  "language_info": {
   "codemirror_mode": {
    "name": "ipython",
    "version": 3
   },
   "file_extension": ".py",
   "mimetype": "text/x-python",
   "name": "python",
   "nbconvert_exporter": "python",
   "pygments_lexer": "ipython3",
   "version": "3.11.5"
  },
  "orig_nbformat": 4
 },
 "nbformat": 4,
 "nbformat_minor": 2
}
