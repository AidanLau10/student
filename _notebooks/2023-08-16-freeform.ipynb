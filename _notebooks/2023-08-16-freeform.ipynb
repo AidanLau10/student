{
 "cells": [
  {
   "cell_type": "markdown",
   "metadata": {},
   "source": [
    "---\n",
    "title: Freeform Picture\n",
    "comments: true\n",
    "hide: true\n",
    "layout: post\n",
    "description: My freeform picture.\n",
    "categories: [C7.0]\n",
    "courses: { labnb: {week: 0} }\n",
    "type: hacks\n",
    "---"
   ]
  },
  {
   "cell_type": "markdown",
   "metadata": {},
   "source": [
    "![Freeform Picture](/images/freeform.jpg)"
   ]
  }
 ],
 "metadata": {
  "language_info": {
   "name": "python"
  },
  "orig_nbformat": 4
 },
 "nbformat": 4,
 "nbformat_minor": 2
}
