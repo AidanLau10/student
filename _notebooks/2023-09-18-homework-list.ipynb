{
 "cells": [
  {
   "cell_type": "markdown",
   "metadata": {},
   "source": [
    "---\n",
    "title: Homework List\n",
    "comments: true\n",
    "hide: true\n",
    "layout: default\n",
    "description: HTML, CSS, Javascript, and API to create a homework list.\n",
    "categories: [C7.0]\n",
    "courses: { labnb: {week: 3} }\n",
    "type: hacks\n",
    "---"
   ]
  },
  {
   "cell_type": "markdown",
   "metadata": {},
   "source": [
    "[Link text](http://127.0.0.1:5000/)"
   ]
  }
 ],
 "metadata": {
  "language_info": {
   "name": "python"
  },
  "orig_nbformat": 4
 },
 "nbformat": 4,
 "nbformat_minor": 2
}
