{
 "cells": [
  {
   "cell_type": "markdown",
   "metadata": {},
   "source": [
    "---\n",
    "title: Random Fact Generator\n",
    "#comments: true\n",
    "hide: true\n",
    "layout: post\n",
    "description: Generate a random fact\n",
    "categories: [C7.0]\n",
    "courses: { labnb: {week: 3} }\n",
    "type: hacks\n",
    "---"
   ]
  },
  {
   "cell_type": "code",
   "execution_count": null,
   "metadata": {},
   "outputs": [],
   "source": [
    "## Code to generate random fact\n",
    "\n",
    "import randfacts as rf\n",
    "\n",
    "print(\"Random Facts\")\n",
    "x =''\n",
    "\n",
    "while x =='':\n",
    "    print(\"Press Enter for a Fact\")\n",
    "    x = input()\n",
    "    fact = rf.get_fact()\n",
    "    print(fact)\n",
    "    \n",
    "## NOTE: Jupyter notebooks does not let user input, so the code is not the same as the one you see being run."
   ]
  },
  {
   "cell_type": "code",
   "execution_count": 10,
   "metadata": {},
   "outputs": [
    {
     "name": "stdout",
     "output_type": "stream",
     "text": [
      "Random Facts\n",
      "There were two AI chatbots created by Facebook to talk to each other, but they were shut down after they started communicating in a language they made for themselves.\n"
     ]
    }
   ],
   "source": [
    "## Load code into notebook to display output\n",
    "%run random-fact.py"
   ]
  }
 ],
 "metadata": {
  "kernelspec": {
   "display_name": "Python 3",
   "language": "python",
   "name": "python3"
  },
  "language_info": {
   "codemirror_mode": {
    "name": "ipython",
    "version": 3
   },
   "file_extension": ".py",
   "mimetype": "text/x-python",
   "name": "python",
   "nbconvert_exporter": "python",
   "pygments_lexer": "ipython3",
   "version": "3.10.12"
  },
  "orig_nbformat": 4
 },
 "nbformat": 4,
 "nbformat_minor": 2
}
