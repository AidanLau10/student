{
 "cells": [
  {
   "cell_type": "markdown",
   "metadata": {},
   "source": [
    "---\n",
    "comments: true\n",
    "layout: post\n",
    "title: CB 3.16-3.17 Simulations\n",
    "description: Student Lesson\n",
    "courses: { csp: {week: 11} }\n",
    "type: ccc\n",
    "---"
   ]
  },
  {
   "cell_type": "markdown",
   "metadata": {},
   "source": [
    "## Simulations and Algorithms\n",
    "Introduce concepts of Simulations.  Try to tie Algoritms to Simulations to make the two sections more interesting.\n",
    "- Describe a game or animation, how they simulates movement and actions.\n",
    "- Describe a game like flight simulator, how it simulates a real life activity.\n",
    "- Provide an example of a simulation algorithm.\n",
    "- Talk about key college board topcis."
   ]
  },
  {
   "cell_type": "markdown",
   "metadata": {},
   "source": [
    "## "
   ]
  }
 ],
 "metadata": {
  "kernelspec": {
   "display_name": "Python 3 (ipykernel)",
   "language": "python",
   "name": "python3"
  },
  "language_info": {
   "codemirror_mode": {
    "name": "ipython",
    "version": 3
   },
   "file_extension": ".py",
   "mimetype": "text/x-python",
   "name": "python",
   "nbconvert_exporter": "python",
   "pygments_lexer": "ipython3",
   "version": "3.11.5"
  }
 },
 "nbformat": 4,
 "nbformat_minor": 4
}
