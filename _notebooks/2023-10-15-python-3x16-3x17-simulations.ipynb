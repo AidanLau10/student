{
 "cells": [
  {
   "cell_type": "markdown",
   "metadata": {},
   "source": [
    "---\n",
    "comments: true\n",
    "layout: post\n",
    "title: CB 3.16-3.17 Simulations\n",
    "description: Student Lesson\n",
    "courses: { labnb: {week: 11} }\n",
    "type: hacks\n",
    "---"
   ]
  },
  {
   "cell_type": "markdown",
   "metadata": {},
   "source": [
    "# 3.17 Algorithmic Efficiency\n",
    "\n",
    "## Key Term\n",
    "\n",
    "- A <span style=\"background-color: #b63c59\">heuristic</span> is an approach to a problem where it's solution is not optimal but used because other techniques that WILL find the best solution are not practical\n",
    "\n",
    "## Traveling Salesperson Problem\n",
    "\n",
    "- There is a set of cities. Find the shortest route that visits every city exactly once and returns to the start point\n",
    "\n",
    "![Traveling Salesperson](../../../images/traveling-salesperson.png)\n",
    "![Traveling Salesperson 2](../../../images/traveling-salesperson-2.png)\n",
    "\n",
    "- Picked randomly\n",
    "- Imagine finding the shortest route with 100+ cities\n",
    "- Take into account the time it takes\n",
    "\n",
    "- Instead of trying every single route, use a heuristic\n",
    "  - A heauistic might not give the best possible solution, but it will have a solution in a reasonable amount of time\n",
    "\n",
    "## Traveling Sales Problem: Nearest Neighbor\n",
    "\n",
    "![Traveling Salesperson](../../../images/nearest-neighbor.png)\n",
    "\n",
    "- In the traveling salesperson problem, traveling to the nearest neighbor will give a solution\n",
    "- It isn't the best solution but it is optimal and saves time.\n",
    "\n",
    "## Popcorn Hack 4\n",
    "\n",
    "![Traveling Salesperson](../../../images/ap-classroom.png)\n",
    "\n",
    "<button id=\"answer\">Answer</button>\n",
    "\n",
    "<script>\n",
    "    const answerButton = document.getElementById('answer')\n",
    "\n",
    "answerButton.addEventListener('click', (event) => {\n",
    "    answerButton.innerHTML = 'The correct answer is B because finding the best possible master schedule for a high school has to take into the constraints of teacher availability, school start and end time laws, all student course requests, etc. instead of finding a heuristic solution that is optimal and fast.'\n",
    "});\n",
    "</script>\n"
   ]
  },
  {
   "cell_type": "code",
   "execution_count": 2,
   "metadata": {},
   "outputs": [
    {
     "name": "stdout",
     "output_type": "stream",
     "text": [
      "Optimal Path: (0, 2, 1, 3)\n",
      "Minimum Distance: 73\n"
     ]
    }
   ],
   "source": [
    "def nearest_neighbor_tsp(distances):\n",
    "    num_cities = len(distances)\n",
    "    unvisited_cities = list(range(num_cities))\n",
    "    tour = [unvisited_cities.pop(0)]  # Start with the first city\n",
    "\n",
    "    while unvisited_cities:\n",
    "        current_city = tour[-1]\n",
    "        nearest_city = min(unvisited_cities, key=lambda city: distances[current_city][city])\n",
    "        tour.append(nearest_city)\n",
    "        unvisited_cities.remove(nearest_city)\n",
    "\n",
    "    # Return to the starting city\n",
    "    tour.append(tour[0])\n",
    "\n",
    "    total_distance = sum(distances[tour[i]][tour[i + 1]] for i in range(num_cities))\n",
    "\n",
    "    return tour, total_distance\n",
    "\n",
    "# Example usage\n",
    "distances = [\n",
    "    [0, 29, 20, 21],\n",
    "    [29, 0, 15, 17],\n",
    "    [20, 15, 0, 28],\n",
    "    [21, 17, 28, 0]\n",
    "]\n",
    "\n",
    "optimal_tour, min_distance = nearest_neighbor_tsp(distances)\n",
    "print(\"Optimal Tour:\", optimal_tour)\n",
    "print(\"Total Distance:\", min_distance)\n"
   ]
  },
  {
   "cell_type": "markdown",
   "metadata": {},
   "source": [
    "## "
   ]
  }
 ],
 "metadata": {
  "kernelspec": {
   "display_name": "Python 3 (ipykernel)",
   "language": "python",
   "name": "python3"
  },
  "language_info": {
   "codemirror_mode": {
    "name": "ipython",
    "version": 3
   },
   "file_extension": ".py",
   "mimetype": "text/x-python",
   "name": "python",
   "nbconvert_exporter": "python",
   "pygments_lexer": "ipython3",
   "version": "3.11.6"
  }
 },
 "nbformat": 4,
 "nbformat_minor": 4
}
