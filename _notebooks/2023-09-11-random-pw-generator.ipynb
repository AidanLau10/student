{
 "cells": [
  {
   "cell_type": "markdown",
   "metadata": {},
   "source": [
    "---\n",
    "title: Random Password Generator\n",
    "comments: true\n",
    "hide: true\n",
    "layout: post\n",
    "description: Generate a random password\n",
    "categories: [C7.0]\n",
    "courses: { labnb: {week: 3} }\n",
    "type: hacks\n",
    "---"
   ]
  },
  {
   "cell_type": "code",
   "execution_count": 1,
   "metadata": {},
   "outputs": [
    {
     "name": "stdout",
     "output_type": "stream",
     "text": [
      "Your password: \n",
      "h40mg^cnu2bubco5\n"
     ]
    }
   ],
   "source": [
    "import random\n",
    "\n",
    "print(\"Your password: \")\n",
    "\n",
    "chars = \"abcdefghijklmnopqrstuvwxyz1234567890!@#$%^&*()?\"\n",
    "\n",
    "password = ''\n",
    "for x in range(16):\n",
    "    password += random.choice(chars)\n",
    "\n",
    "print(password)"
   ]
  }
 ],
 "metadata": {
  "kernelspec": {
   "display_name": "Python 3",
   "language": "python",
   "name": "python3"
  },
  "language_info": {
   "codemirror_mode": {
    "name": "ipython",
    "version": 3
   },
   "file_extension": ".py",
   "mimetype": "text/x-python",
   "name": "python",
   "nbconvert_exporter": "python",
   "pygments_lexer": "ipython3",
   "version": "3.10.12"
  },
  "orig_nbformat": 4
 },
 "nbformat": 4,
 "nbformat_minor": 2
}
