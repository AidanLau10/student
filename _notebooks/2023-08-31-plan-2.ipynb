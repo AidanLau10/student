{
 "cells": [
  {
   "cell_type": "markdown",
   "metadata": {},
   "source": [
    "---\n",
    "title: Week 2 Plan\n",
    "comments: true\n",
    "hide: true\n",
    "layout: post\n",
    "description: A daily plan for this week.\n",
    "categories: [C7.0]\n",
    "courses: { labnb: {week: 2} }\n",
    "type: plans\n",
    "---"
   ]
  },
  {
   "cell_type": "markdown",
   "metadata": {},
   "source": [
    "- Monday - Live review day. Prep for live review with partner. \n",
    "- Tuesday - Review what frontmatter metadata is. Run live site on github.io. Setup Computer Science Lab Notebook.\n",
    "- Wednesday - Integrate snake and calculator into lab notebook.\n",
    "- Thursday - Review JS Output w/ jquery and Python Tricks.\n",
    "- Friday - Talk to partner about implementing Utterances in daily plans. Discuss pair showcase with partner."
   ]
  }
 ],
 "metadata": {
  "language_info": {
   "name": "python"
  },
  "orig_nbformat": 4
 },
 "nbformat": 4,
 "nbformat_minor": 2
}
