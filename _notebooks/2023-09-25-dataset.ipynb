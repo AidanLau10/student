{
 "cells": [
  {
   "cell_type": "markdown",
   "metadata": {},
   "source": [
    "---\n",
    "title: Dataset Test\n",
    "comments: true\n",
    "hide: true\n",
    "layout: post\n",
    "description: A daily plan for this week.\n",
    "courses: { labnb: {week: 6} }\n",
    "type: hacks\n",
    "---"
   ]
  },
  {
   "cell_type": "code",
   "execution_count": null,
   "metadata": {},
   "outputs": [],
   "source": [
    "import pandas as pd\n",
    "\n",
    "valorant = pd.DataFrame({\n",
    "    \"Name\": [\n",
    "        \"Respect\",\n",
    "        \"Asuna\",\n",
    "        \"Runi\",\n",
    "    ],\n",
    "    \"K/D\": [\n",
    "        1.0,\n",
    "        2.0,\n",
    "        1.2,\n",
    "    ],\n",
    "    \"Agent\": [\n",
    "        \"Omen\",\n",
    "        \"Raze\",\n",
    "        \"Sova\",\n",
    "    ],\n",
    "})"
   ]
  }
 ],
 "metadata": {
  "language_info": {
   "name": "python"
  },
  "orig_nbformat": 4
 },
 "nbformat": 4,
 "nbformat_minor": 2
}
